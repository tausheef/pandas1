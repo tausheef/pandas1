{
 "cells": [
  {
   "cell_type": "markdown",
   "id": "ba6bf047-d185-4c20-bc13-245e34d19aee",
   "metadata": {},
   "source": [
    "Pandas Series"
   ]
  },
  {
   "cell_type": "markdown",
   "id": "84cd2773-b0eb-4bfb-9844-cd42eae0279c",
   "metadata": {},
   "source": [
    "Creating Pandas Series"
   ]
  },
  {
   "cell_type": "code",
   "execution_count": 1,
   "id": "58a55f0a-85cf-415c-bbcc-b9d1a51f081f",
   "metadata": {},
   "outputs": [],
   "source": [
    "import numpy as np\n",
    "import pandas as pd"
   ]
  },
  {
   "cell_type": "code",
   "execution_count": 6,
   "id": "ebf4f592-ffe7-420b-a1c3-e9309f6ec71e",
   "metadata": {},
   "outputs": [],
   "source": [
    "labels = ['a' , 'b' , 'c']\n",
    "my_list = [10 , 20 , 30]\n",
    "arr = np.array([10 , 20 , 30])\n",
    "d = {'z':10 , 'x':20 , 'c':30}"
   ]
  },
  {
   "cell_type": "code",
   "execution_count": 7,
   "id": "a8897cc3-a985-4a50-851d-c10a7f55a4c0",
   "metadata": {},
   "outputs": [
    {
     "data": {
      "text/plain": [
       "0    10\n",
       "1    20\n",
       "2    30\n",
       "dtype: int64"
      ]
     },
     "execution_count": 7,
     "metadata": {},
     "output_type": "execute_result"
    }
   ],
   "source": [
    "pd.Series(my_list)"
   ]
  },
  {
   "cell_type": "code",
   "execution_count": 11,
   "id": "11fdcd70-80ff-480c-8e95-b67f307c962b",
   "metadata": {},
   "outputs": [
    {
     "data": {
      "text/plain": [
       "a    10\n",
       "b    20\n",
       "c    30\n",
       "Name: list, dtype: int64"
      ]
     },
     "execution_count": 11,
     "metadata": {},
     "output_type": "execute_result"
    }
   ],
   "source": [
    "pd.Series(my_list , name=\"list\" , index=labels)"
   ]
  },
  {
   "cell_type": "code",
   "execution_count": 9,
   "id": "1d14cb86-c50a-4027-ad5f-ef81e148eb81",
   "metadata": {},
   "outputs": [
    {
     "data": {
      "text/plain": [
       "z    10\n",
       "x    20\n",
       "c    30\n",
       "dtype: int64"
      ]
     },
     "execution_count": 9,
     "metadata": {},
     "output_type": "execute_result"
    }
   ],
   "source": [
    "pd.Series(d)"
   ]
  },
  {
   "cell_type": "code",
   "execution_count": null,
   "id": "fafd5757-9815-4e5c-83e6-0949df41e610",
   "metadata": {},
   "outputs": [],
   "source": []
  }
 ],
 "metadata": {
  "kernelspec": {
   "display_name": "Python [conda env:base] *",
   "language": "python",
   "name": "conda-base-py"
  },
  "language_info": {
   "codemirror_mode": {
    "name": "ipython",
    "version": 3
   },
   "file_extension": ".py",
   "mimetype": "text/x-python",
   "name": "python",
   "nbconvert_exporter": "python",
   "pygments_lexer": "ipython3",
   "version": "3.13.5"
  }
 },
 "nbformat": 4,
 "nbformat_minor": 5
}
