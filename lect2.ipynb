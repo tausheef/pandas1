{
 "cells": [
  {
   "cell_type": "markdown",
   "id": "4c1eb097-55ce-4346-a047-1dc4979199dc",
   "metadata": {},
   "source": [
    "Data Frames"
   ]
  },
  {
   "cell_type": "markdown",
   "id": "bdb28750-5a66-47e3-9050-401f578661f4",
   "metadata": {},
   "source": [
    "Creating Dataframes"
   ]
  },
  {
   "cell_type": "markdown",
   "id": "fcebdbd3-d9aa-4c33-80c3-3ad41ecc83c5",
   "metadata": {},
   "source": [
    "import numpy as np\n",
    "import pandas as pd"
   ]
  },
  {
   "cell_type": "markdown",
   "id": "8c88184d-e265-42cc-9ae9-3b828f3b9ab3",
   "metadata": {},
   "source": [
    "import numpy as np\n",
    "import pandas as pd"
   ]
  },
  {
   "cell_type": "markdown",
   "id": "4766f7dc-94b0-4733-88c7-e01e8866643c",
   "metadata": {},
   "source": [
    "## ]-UYTdata = {\n",
    "    'Name': ['Tauseef', 'Ali', 'Zara'],\n",
    "    'Age': [22, 24, 21],\n",
    "    'City': ['Delhi', 'Mumbai', 'Lucknow'],\n",
    "    'Slary': ['65000' , '75000' ,  '83000']\n",
    "}\n",
    "\n",
    "df = pd.DataFrame(data)"
   ]
  },
  {
   "cell_type": "code",
   "execution_count": 26,
   "id": "a9830583-8273-4957-a26f-f4f979337f12",
   "metadata": {},
   "outputs": [
    {
     "data": {
      "text/html": [
       "<div>\n",
       "<style scoped>\n",
       "    .dataframe tbody tr th:only-of-type {\n",
       "        vertical-align: middle;\n",
       "    }\n",
       "\n",
       "    .dataframe tbody tr th {\n",
       "        vertical-align: top;\n",
       "    }\n",
       "\n",
       "    .dataframe thead th {\n",
       "        text-align: right;\n",
       "    }\n",
       "</style>\n",
       "<table border=\"1\" class=\"dataframe\">\n",
       "  <thead>\n",
       "    <tr style=\"text-align: right;\">\n",
       "      <th></th>\n",
       "      <th>Name</th>\n",
       "      <th>Age</th>\n",
       "      <th>City</th>\n",
       "      <th>Slary</th>\n",
       "    </tr>\n",
       "  </thead>\n",
       "  <tbody>\n",
       "    <tr>\n",
       "      <th>0</th>\n",
       "      <td>Tauseef</td>\n",
       "      <td>22</td>\n",
       "      <td>Delhi</td>\n",
       "      <td>65000</td>\n",
       "    </tr>\n",
       "    <tr>\n",
       "      <th>1</th>\n",
       "      <td>Ali</td>\n",
       "      <td>24</td>\n",
       "      <td>Mumbai</td>\n",
       "      <td>75000</td>\n",
       "    </tr>\n",
       "    <tr>\n",
       "      <th>2</th>\n",
       "      <td>Zara</td>\n",
       "      <td>21</td>\n",
       "      <td>Lucknow</td>\n",
       "      <td>83000</td>\n",
       "    </tr>\n",
       "  </tbody>\n",
       "</table>\n",
       "</div>"
      ],
      "text/plain": [
       "      Name  Age     City  Slary\n",
       "0  Tauseef   22    Delhi  65000\n",
       "1      Ali   24   Mumbai  75000\n",
       "2     Zara   21  Lucknow  83000"
      ]
     },
     "execution_count": 26,
     "metadata": {},
     "output_type": "execute_result"
    }
   ],
   "source": [
    "df"
   ]
  },
  {
   "cell_type": "markdown",
   "id": "edd49ae1-3f54-4d8c-91c4-1f1abb28be9d",
   "metadata": {},
   "source": [
    "USING LIST"
   ]
  },
  {
   "cell_type": "code",
   "execution_count": 9,
   "id": "028aceb6-2151-49c8-82a6-327abebf6b3f",
   "metadata": {},
   "outputs": [
    {
     "name": "stdout",
     "output_type": "stream",
     "text": [
      "      Name  Age     City\n",
      "0  Tauseef   22    Delhi\n",
      "1      Ali   24   Mumbai\n",
      "2     Zara   21  Lucknow\n"
     ]
    }
   ],
   "source": [
    "\n",
    "data = [\n",
    "    ['Tauseef', 22, 'Delhi'],\n",
    "    ['Ali', 24, 'Mumbai'],\n",
    "    ['Zara', 21, 'Lucknow']\n",
    "]\n",
    "\n",
    "df2 = pd.DataFrame(data, columns=['Name', 'Age', 'City'])\n",
    "print(df2)\n"
   ]
  },
  {
   "cell_type": "markdown",
   "id": "9de68e94-7d35-47a2-a787-baf3b594470d",
   "metadata": {},
   "source": [
    "FROM LIST OF DICTIONARIES"
   ]
  },
  {
   "cell_type": "code",
   "execution_count": 11,
   "id": "e48ca325-47f0-449e-b00e-95670b00e862",
   "metadata": {},
   "outputs": [
    {
     "name": "stdout",
     "output_type": "stream",
     "text": [
      "      Name  Age     City\n",
      "0  Tauseef   22    Delhi\n",
      "1      Ali   24   Mumbai\n",
      "2     Zara   21  Lucknow\n"
     ]
    }
   ],
   "source": [
    "data = [\n",
    "    {'Name': 'Tauseef', 'Age': 22, 'City': 'Delhi'},\n",
    "    {'Name': 'Ali', 'Age': 24, 'City': 'Mumbai'},\n",
    "    {'Name': 'Zara', 'Age': 21, 'City': 'Lucknow'}\n",
    "]\n",
    "\n",
    "df3 = pd.DataFrame(data)\n",
    "print(df3)\n"
   ]
  },
  {
   "cell_type": "markdown",
   "id": "ed03dbf4-3730-4019-b4a4-07b1dfc5fd99",
   "metadata": {},
   "source": [
    "From NumPy Arrays"
   ]
  },
  {
   "cell_type": "code",
   "execution_count": 12,
   "id": "37e93edd-8b99-4560-a0f6-99f9da4779d0",
   "metadata": {},
   "outputs": [
    {
     "name": "stdout",
     "output_type": "stream",
     "text": [
      "      Name Age    City\n",
      "0  Tauseef  22   Delhi\n",
      "1      Ali  24  Mumbai\n"
     ]
    }
   ],
   "source": [
    "import numpy as np\n",
    "\n",
    "arr = np.array([\n",
    "    ['Tauseef', 22, 'Delhi'],\n",
    "    ['Ali', 24, 'Mumbai']\n",
    "])\n",
    "\n",
    "df4 = pd.DataFrame(arr, columns=['Name', 'Age', 'City'])\n",
    "print(df4)\n"
   ]
  },
  {
   "cell_type": "code",
   "execution_count": 23,
   "id": "1fd47e77-6af8-4cb3-89cf-2eadb8c0ca06",
   "metadata": {},
   "outputs": [
    {
     "data": {
      "text/html": [
       "<div>\n",
       "<style scoped>\n",
       "    .dataframe tbody tr th:only-of-type {\n",
       "        vertical-align: middle;\n",
       "    }\n",
       "\n",
       "    .dataframe tbody tr th {\n",
       "        vertical-align: top;\n",
       "    }\n",
       "\n",
       "    .dataframe thead th {\n",
       "        text-align: right;\n",
       "    }\n",
       "</style>\n",
       "<table border=\"1\" class=\"dataframe\">\n",
       "  <thead>\n",
       "    <tr style=\"text-align: right;\">\n",
       "      <th></th>\n",
       "      <th>Name</th>\n",
       "    </tr>\n",
       "  </thead>\n",
       "  <tbody>\n",
       "    <tr>\n",
       "      <th>0</th>\n",
       "      <td>Tauseef</td>\n",
       "    </tr>\n",
       "    <tr>\n",
       "      <th>1</th>\n",
       "      <td>Ali</td>\n",
       "    </tr>\n",
       "    <tr>\n",
       "      <th>2</th>\n",
       "      <td>Zara</td>\n",
       "    </tr>\n",
       "  </tbody>\n",
       "</table>\n",
       "</div>"
      ],
      "text/plain": [
       "      Name\n",
       "0  Tauseef\n",
       "1      Ali\n",
       "2     Zara"
      ]
     },
     "execution_count": 23,
     "metadata": {},
     "output_type": "execute_result"
    }
   ],
   "source": [
    "df[['Name']]"
   ]
  },
  {
   "cell_type": "code",
   "execution_count": 21,
   "id": "ab92a9e0-92bd-4e14-96e7-8857ba2fc23e",
   "metadata": {},
   "outputs": [
    {
     "data": {
      "text/html": [
       "<div>\n",
       "<style scoped>\n",
       "    .dataframe tbody tr th:only-of-type {\n",
       "        vertical-align: middle;\n",
       "    }\n",
       "\n",
       "    .dataframe tbody tr th {\n",
       "        vertical-align: top;\n",
       "    }\n",
       "\n",
       "    .dataframe thead th {\n",
       "        text-align: right;\n",
       "    }\n",
       "</style>\n",
       "<table border=\"1\" class=\"dataframe\">\n",
       "  <thead>\n",
       "    <tr style=\"text-align: right;\">\n",
       "      <th></th>\n",
       "      <th>City</th>\n",
       "      <th>Age</th>\n",
       "    </tr>\n",
       "  </thead>\n",
       "  <tbody>\n",
       "    <tr>\n",
       "      <th>0</th>\n",
       "      <td>Delhi</td>\n",
       "      <td>22</td>\n",
       "    </tr>\n",
       "    <tr>\n",
       "      <th>1</th>\n",
       "      <td>Mumbai</td>\n",
       "      <td>24</td>\n",
       "    </tr>\n",
       "  </tbody>\n",
       "</table>\n",
       "</div>"
      ],
      "text/plain": [
       "     City Age\n",
       "0   Delhi  22\n",
       "1  Mumbai  24"
      ]
     },
     "execution_count": 21,
     "metadata": {},
     "output_type": "execute_result"
    }
   ],
   "source": [
    "df4[['City' , 'Age']]"
   ]
  },
  {
   "cell_type": "code",
   "execution_count": null,
   "id": "251d99ce-26b8-4b11-b840-a20ca63121b0",
   "metadata": {},
   "outputs": [],
   "source": []
  }
 ],
 "metadata": {
  "kernelspec": {
   "display_name": "Python [conda env:base] *",
   "language": "python",
   "name": "conda-base-py"
  },
  "language_info": {
   "codemirror_mode": {
    "name": "ipython",
    "version": 3
   },
   "file_extension": ".py",
   "mimetype": "text/x-python",
   "name": "python",
   "nbconvert_exporter": "python",
   "pygments_lexer": "ipython3",
   "version": "3.13.5"
  }
 },
 "nbformat": 4,
 "nbformat_minor": 5
}
